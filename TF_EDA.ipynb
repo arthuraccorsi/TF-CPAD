{
 "cells": [
  {
   "cell_type": "code",
   "execution_count": 41,
   "metadata": {},
   "outputs": [],
   "source": [
    "import pandas as pd\n",
    "import numpy as np "
   ]
  },
  {
   "cell_type": "markdown",
   "metadata": {},
   "source": [
    "Perfil eleitor"
   ]
  },
  {
   "cell_type": "code",
   "execution_count": 42,
   "metadata": {},
   "outputs": [
    {
     "name": "stdout",
     "output_type": "stream",
     "text": [
      "<class 'pandas.core.frame.DataFrame'>\n",
      "RangeIndex: 4281617 entries, 0 to 4281616\n",
      "Data columns (total 23 columns):\n",
      " #   Column                      Dtype \n",
      "---  ------                      ----- \n",
      " 0   DT_GERACAO                  object\n",
      " 1   HH_GERACAO                  object\n",
      " 2   ANO_ELEICAO                 int64 \n",
      " 3   SG_UF                       object\n",
      " 4   CD_MUNICIPIO                int64 \n",
      " 5   NM_MUNICIPIO                object\n",
      " 6   CD_MUN_SIT_BIOMETRICA       int64 \n",
      " 7   DS_MUN_SIT_BIOMETRICA       object\n",
      " 8   NR_ZONA                     int64 \n",
      " 9   NR_SECAO                    int64 \n",
      " 10  NR_LOCAL_VOTACAO            int64 \n",
      " 11  CD_GENERO                   int64 \n",
      " 12  DS_GENERO                   object\n",
      " 13  CD_ESTADO_CIVIL             int64 \n",
      " 14  DS_ESTADO_CIVIL             object\n",
      " 15  CD_FAIXA_ETARIA             int64 \n",
      " 16  DS_FAIXA_ETARIA             object\n",
      " 17  CD_GRAU_ESCOLARIDADE        int64 \n",
      " 18  DS_GRAU_ESCOLARIDADE        object\n",
      " 19  QT_ELEITORES_PERFIL         int64 \n",
      " 20  QT_ELEITORES_BIOMETRIA      int64 \n",
      " 21  QT_ELEITORES_DEFICIENCIA    int64 \n",
      " 22  QT_ELEITORES_INC_NM_SOCIAL  int64 \n",
      "dtypes: int64(14), object(9)\n",
      "memory usage: 751.3+ MB\n"
     ]
    }
   ],
   "source": [
    "df_perfil_inicio = pd.read_csv(\"perfil_eleitor_secao_2020_RS.csv\",  encoding=\"latin1\", delimiter=\";\")\n",
    "df_perfil_inicio.info()"
   ]
  },
  {
   "cell_type": "code",
   "execution_count": 43,
   "metadata": {},
   "outputs": [
    {
     "data": {
      "text/html": [
       "<div>\n",
       "<style scoped>\n",
       "    .dataframe tbody tr th:only-of-type {\n",
       "        vertical-align: middle;\n",
       "    }\n",
       "\n",
       "    .dataframe tbody tr th {\n",
       "        vertical-align: top;\n",
       "    }\n",
       "\n",
       "    .dataframe thead th {\n",
       "        text-align: right;\n",
       "    }\n",
       "</style>\n",
       "<table border=\"1\" class=\"dataframe\">\n",
       "  <thead>\n",
       "    <tr style=\"text-align: right;\">\n",
       "      <th></th>\n",
       "      <th>CD_MUNICIPIO</th>\n",
       "      <th>NR_ZONA</th>\n",
       "      <th>DS_GRAU_ESCOLARIDADE</th>\n",
       "      <th>QT_ELEITORES_PERFIL</th>\n",
       "    </tr>\n",
       "  </thead>\n",
       "  <tbody>\n",
       "    <tr>\n",
       "      <th>0</th>\n",
       "      <td>84735</td>\n",
       "      <td>3</td>\n",
       "      <td>ANALFABETO</td>\n",
       "      <td>28</td>\n",
       "    </tr>\n",
       "    <tr>\n",
       "      <th>1</th>\n",
       "      <td>84735</td>\n",
       "      <td>3</td>\n",
       "      <td>ENSINO FUNDAMENTAL COMPLETO</td>\n",
       "      <td>250</td>\n",
       "    </tr>\n",
       "    <tr>\n",
       "      <th>2</th>\n",
       "      <td>84735</td>\n",
       "      <td>3</td>\n",
       "      <td>ENSINO FUNDAMENTAL INCOMPLETO</td>\n",
       "      <td>1431</td>\n",
       "    </tr>\n",
       "    <tr>\n",
       "      <th>3</th>\n",
       "      <td>84735</td>\n",
       "      <td>3</td>\n",
       "      <td>ENSINO MÉDIO COMPLETO</td>\n",
       "      <td>593</td>\n",
       "    </tr>\n",
       "    <tr>\n",
       "      <th>4</th>\n",
       "      <td>84735</td>\n",
       "      <td>3</td>\n",
       "      <td>ENSINO MÉDIO INCOMPLETO</td>\n",
       "      <td>307</td>\n",
       "    </tr>\n",
       "  </tbody>\n",
       "</table>\n",
       "</div>"
      ],
      "text/plain": [
       "   CD_MUNICIPIO  NR_ZONA           DS_GRAU_ESCOLARIDADE  QT_ELEITORES_PERFIL\n",
       "0         84735        3                     ANALFABETO                   28\n",
       "1         84735        3    ENSINO FUNDAMENTAL COMPLETO                  250\n",
       "2         84735        3  ENSINO FUNDAMENTAL INCOMPLETO                 1431\n",
       "3         84735        3          ENSINO MÉDIO COMPLETO                  593\n",
       "4         84735        3        ENSINO MÉDIO INCOMPLETO                  307"
      ]
     },
     "execution_count": 43,
     "metadata": {},
     "output_type": "execute_result"
    }
   ],
   "source": [
    "df_perfil_reduzido = df_perfil_inicio[['CD_MUNICIPIO', 'NR_ZONA', 'DS_GRAU_ESCOLARIDADE', 'QT_ELEITORES_PERFIL']]\n",
    "\n",
    "df_perfil = df_perfil_reduzido.groupby(['CD_MUNICIPIO', 'NR_ZONA', 'DS_GRAU_ESCOLARIDADE']).sum().reset_index()\n",
    "\n",
    "df_perfil.head()\n"
   ]
  },
  {
   "cell_type": "markdown",
   "metadata": {},
   "source": [
    "Votação Partido Município Zona"
   ]
  },
  {
   "cell_type": "code",
   "execution_count": 44,
   "metadata": {},
   "outputs": [
    {
     "name": "stdout",
     "output_type": "stream",
     "text": [
      "<class 'pandas.core.frame.DataFrame'>\n",
      "RangeIndex: 5173 entries, 0 to 5172\n",
      "Data columns (total 36 columns):\n",
      " #   Column                          Non-Null Count  Dtype \n",
      "---  ------                          --------------  ----- \n",
      " 0   DT_GERACAO                      5173 non-null   object\n",
      " 1   HH_GERACAO                      5173 non-null   object\n",
      " 2   ANO_ELEICAO                     5173 non-null   int64 \n",
      " 3   CD_TIPO_ELEICAO                 5173 non-null   int64 \n",
      " 4   NM_TIPO_ELEICAO                 5173 non-null   object\n",
      " 5   NR_TURNO                        5173 non-null   int64 \n",
      " 6   CD_ELEICAO                      5173 non-null   int64 \n",
      " 7   DS_ELEICAO                      5173 non-null   object\n",
      " 8   DT_ELEICAO                      5173 non-null   object\n",
      " 9   TP_ABRANGENCIA_ELEICAO          5173 non-null   object\n",
      " 10  SG_UF                           5173 non-null   object\n",
      " 11  SG_UE                           5173 non-null   int64 \n",
      " 12  NM_UE                           5173 non-null   object\n",
      " 13  CD_MUNICIPIO                    5173 non-null   int64 \n",
      " 14  NM_MUNICIPIO                    5173 non-null   object\n",
      " 15  NR_ZONA                         5173 non-null   int64 \n",
      " 16  CD_CARGO                        5173 non-null   int64 \n",
      " 17  DS_CARGO                        5173 non-null   object\n",
      " 18  TP_AGREMIACAO                   5173 non-null   object\n",
      " 19  NR_PARTIDO                      5173 non-null   int64 \n",
      " 20  SG_PARTIDO                      5173 non-null   object\n",
      " 21  NM_PARTIDO                      5173 non-null   object\n",
      " 22  NR_FEDERACAO                    5173 non-null   int64 \n",
      " 23  NM_FEDERACAO                    5173 non-null   object\n",
      " 24  SG_FEDERACAO                    5173 non-null   object\n",
      " 25  DS_COMPOSICAO_FEDERACAO         5173 non-null   object\n",
      " 26  SQ_COLIGACAO                    5173 non-null   int64 \n",
      " 27  NM_COLIGACAO                    5173 non-null   object\n",
      " 28  DS_COMPOSICAO_COLIGACAO         5173 non-null   object\n",
      " 29  ST_VOTO_EM_TRANSITO             5173 non-null   object\n",
      " 30  QT_VOTOS_LEGENDA_VALIDOS        5173 non-null   int64 \n",
      " 31  QT_VOTOS_NOM_CONVR_LEG_VALIDOS  5173 non-null   int64 \n",
      " 32  QT_TOTAL_VOTOS_LEG_VALIDOS      5173 non-null   int64 \n",
      " 33  QT_VOTOS_NOMINAIS_VALIDOS       5173 non-null   int64 \n",
      " 34  QT_VOTOS_LEGENDA_ANUL_SUBJUD    5173 non-null   int64 \n",
      " 35  QT_VOTOS_NOMINAIS_ANUL_SUBJUD   5173 non-null   int64 \n",
      "dtypes: int64(17), object(19)\n",
      "memory usage: 1.4+ MB\n"
     ]
    }
   ],
   "source": [
    "df_votos_inicio = pd.read_csv(\"votacao_partido_munzona_2020_RS.csv\", encoding=\"latin1\", delimiter=\";\")\n",
    "df_votos_inicio.info()"
   ]
  },
  {
   "cell_type": "code",
   "execution_count": 45,
   "metadata": {},
   "outputs": [
    {
     "name": "stdout",
     "output_type": "stream",
     "text": [
      "                                NM_PARTIDO  CD_MUNICIPIO      NM_MUNICIPIO  \\\n",
      "0         Movimento Democrático Brasileiro         86223             BARÃO   \n",
      "1  Partido da Social Democracia Brasileira         85871           CANGUÇU   \n",
      "2                            PROGRESSISTAS         89591       VERANÓPOLIS   \n",
      "3           Partido Socialismo e Liberdade         86835          GRAVATAÍ   \n",
      "4                            PROGRESSISTAS         85561  SALDANHA MARINHO   \n",
      "\n",
      "   NR_ZONA  QT_TOTAL_VOTOS  \n",
      "0      152             736  \n",
      "1       14            2055  \n",
      "2       88            1733  \n",
      "3      173            1634  \n",
      "4      115            1233  \n"
     ]
    },
    {
     "name": "stderr",
     "output_type": "stream",
     "text": [
      "C:\\Users\\User\\AppData\\Local\\Temp\\ipykernel_21492\\485758548.py:7: SettingWithCopyWarning: \n",
      "A value is trying to be set on a copy of a slice from a DataFrame.\n",
      "Try using .loc[row_indexer,col_indexer] = value instead\n",
      "\n",
      "See the caveats in the documentation: https://pandas.pydata.org/pandas-docs/stable/user_guide/indexing.html#returning-a-view-versus-a-copy\n",
      "  df_votos_reduzido['QT_TOTAL_VOTOS'] = (\n"
     ]
    }
   ],
   "source": [
    "df_votos_primeiro_turno = df_votos_inicio[df_votos_inicio['NR_TURNO'] == 1]\n",
    "\n",
    "df_votos_reduzido = df_votos_primeiro_turno[['NR_TURNO', 'NM_PARTIDO', 'CD_MUNICIPIO', 'NM_MUNICIPIO', 'NR_ZONA',\n",
    "                              'QT_VOTOS_LEGENDA_VALIDOS', 'QT_VOTOS_NOM_CONVR_LEG_VALIDOS', \n",
    "                              'QT_TOTAL_VOTOS_LEG_VALIDOS', 'QT_VOTOS_NOMINAIS_VALIDOS']]\n",
    "\n",
    "df_votos_reduzido['QT_TOTAL_VOTOS'] = (\n",
    "    df_votos_reduzido['QT_VOTOS_LEGENDA_VALIDOS'] + \n",
    "    df_votos_reduzido['QT_VOTOS_NOM_CONVR_LEG_VALIDOS'] +\n",
    "    df_votos_reduzido['QT_TOTAL_VOTOS_LEG_VALIDOS'] +\n",
    "    df_votos_reduzido['QT_VOTOS_NOMINAIS_VALIDOS']\n",
    ")\n",
    "\n",
    "df_votos = df_votos_reduzido[['NM_PARTIDO', 'CD_MUNICIPIO', 'NM_MUNICIPIO', 'NR_ZONA', 'QT_TOTAL_VOTOS']]\n",
    "\n",
    "print(df_votos.head())\n"
   ]
  },
  {
   "cell_type": "markdown",
   "metadata": {},
   "source": [
    "Juntando datasets"
   ]
  },
  {
   "cell_type": "code",
   "execution_count": 46,
   "metadata": {},
   "outputs": [
    {
     "data": {
      "text/html": [
       "<div>\n",
       "<style scoped>\n",
       "    .dataframe tbody tr th:only-of-type {\n",
       "        vertical-align: middle;\n",
       "    }\n",
       "\n",
       "    .dataframe tbody tr th {\n",
       "        vertical-align: top;\n",
       "    }\n",
       "\n",
       "    .dataframe thead th {\n",
       "        text-align: right;\n",
       "    }\n",
       "</style>\n",
       "<table border=\"1\" class=\"dataframe\">\n",
       "  <thead>\n",
       "    <tr style=\"text-align: right;\">\n",
       "      <th></th>\n",
       "      <th>CD_MUNICIPIO</th>\n",
       "      <th>NR_ZONA</th>\n",
       "      <th>DS_GRAU_ESCOLARIDADE</th>\n",
       "      <th>QT_ELEITORES_PERFIL</th>\n",
       "      <th>NM_PARTIDO</th>\n",
       "      <th>NM_MUNICIPIO</th>\n",
       "      <th>QT_TOTAL_VOTOS</th>\n",
       "    </tr>\n",
       "  </thead>\n",
       "  <tbody>\n",
       "    <tr>\n",
       "      <th>0</th>\n",
       "      <td>84735</td>\n",
       "      <td>3</td>\n",
       "      <td>ANALFABETO</td>\n",
       "      <td>28</td>\n",
       "      <td>PROGRESSISTAS</td>\n",
       "      <td>ÁUREA</td>\n",
       "      <td>856</td>\n",
       "    </tr>\n",
       "    <tr>\n",
       "      <th>1</th>\n",
       "      <td>84735</td>\n",
       "      <td>3</td>\n",
       "      <td>ANALFABETO</td>\n",
       "      <td>28</td>\n",
       "      <td>Partido Liberal</td>\n",
       "      <td>ÁUREA</td>\n",
       "      <td>528</td>\n",
       "    </tr>\n",
       "    <tr>\n",
       "      <th>2</th>\n",
       "      <td>84735</td>\n",
       "      <td>3</td>\n",
       "      <td>ANALFABETO</td>\n",
       "      <td>28</td>\n",
       "      <td>REPUBLICANOS</td>\n",
       "      <td>ÁUREA</td>\n",
       "      <td>209</td>\n",
       "    </tr>\n",
       "    <tr>\n",
       "      <th>3</th>\n",
       "      <td>84735</td>\n",
       "      <td>3</td>\n",
       "      <td>ANALFABETO</td>\n",
       "      <td>28</td>\n",
       "      <td>Movimento Democrático Brasileiro</td>\n",
       "      <td>ÁUREA</td>\n",
       "      <td>345</td>\n",
       "    </tr>\n",
       "    <tr>\n",
       "      <th>4</th>\n",
       "      <td>84735</td>\n",
       "      <td>3</td>\n",
       "      <td>ANALFABETO</td>\n",
       "      <td>28</td>\n",
       "      <td>Partido Trabalhista Brasileiro</td>\n",
       "      <td>ÁUREA</td>\n",
       "      <td>484</td>\n",
       "    </tr>\n",
       "  </tbody>\n",
       "</table>\n",
       "</div>"
      ],
      "text/plain": [
       "   CD_MUNICIPIO  NR_ZONA DS_GRAU_ESCOLARIDADE  QT_ELEITORES_PERFIL  \\\n",
       "0         84735        3           ANALFABETO                   28   \n",
       "1         84735        3           ANALFABETO                   28   \n",
       "2         84735        3           ANALFABETO                   28   \n",
       "3         84735        3           ANALFABETO                   28   \n",
       "4         84735        3           ANALFABETO                   28   \n",
       "\n",
       "                         NM_PARTIDO NM_MUNICIPIO  QT_TOTAL_VOTOS  \n",
       "0                     PROGRESSISTAS        ÁUREA             856  \n",
       "1                   Partido Liberal        ÁUREA             528  \n",
       "2                      REPUBLICANOS        ÁUREA             209  \n",
       "3  Movimento Democrático Brasileiro        ÁUREA             345  \n",
       "4    Partido Trabalhista Brasileiro        ÁUREA             484  "
      ]
     },
     "execution_count": 46,
     "metadata": {},
     "output_type": "execute_result"
    }
   ],
   "source": [
    "df = pd.merge(df_perfil, df_votos, \n",
    "              on=['CD_MUNICIPIO', 'NR_ZONA'], \n",
    "              how='inner')\n",
    "\n",
    "df.head()"
   ]
  },
  {
   "cell_type": "code",
   "execution_count": 55,
   "metadata": {},
   "outputs": [
    {
     "name": "stdout",
     "output_type": "stream",
     "text": [
      "<class 'pandas.core.frame.DataFrame'>\n",
      "Index: 42547 entries, 0 to 42563\n",
      "Data columns (total 7 columns):\n",
      " #   Column                Non-Null Count  Dtype \n",
      "---  ------                --------------  ----- \n",
      " 0   CD_MUNICIPIO          42547 non-null  int64 \n",
      " 1   NR_ZONA               42547 non-null  int64 \n",
      " 2   DS_GRAU_ESCOLARIDADE  42547 non-null  object\n",
      " 3   QT_ELEITORES_PERFIL   42547 non-null  int64 \n",
      " 4   NM_PARTIDO            42547 non-null  object\n",
      " 5   NM_MUNICIPIO          42547 non-null  object\n",
      " 6   QT_TOTAL_VOTOS        42547 non-null  int64 \n",
      "dtypes: int64(4), object(3)\n",
      "memory usage: 2.6+ MB\n"
     ]
    }
   ],
   "source": [
    "df.info()"
   ]
  },
  {
   "cell_type": "markdown",
   "metadata": {},
   "source": [
    "Iniciando limpeza"
   ]
  },
  {
   "cell_type": "code",
   "execution_count": 47,
   "metadata": {},
   "outputs": [
    {
     "data": {
      "text/plain": [
       "CD_MUNICIPIO            0\n",
       "NR_ZONA                 0\n",
       "DS_GRAU_ESCOLARIDADE    0\n",
       "QT_ELEITORES_PERFIL     0\n",
       "NM_PARTIDO              0\n",
       "NM_MUNICIPIO            0\n",
       "QT_TOTAL_VOTOS          0\n",
       "dtype: int64"
      ]
     },
     "execution_count": 47,
     "metadata": {},
     "output_type": "execute_result"
    }
   ],
   "source": [
    "df.isnull().sum()"
   ]
  },
  {
   "cell_type": "code",
   "execution_count": 48,
   "metadata": {},
   "outputs": [
    {
     "name": "stdout",
     "output_type": "stream",
     "text": [
      "False    42547\n",
      "True        17\n",
      "Name: count, dtype: int64\n"
     ]
    }
   ],
   "source": [
    "duplicados = df.duplicated().value_counts()\n",
    "print(duplicados)"
   ]
  },
  {
   "cell_type": "code",
   "execution_count": 52,
   "metadata": {},
   "outputs": [
    {
     "data": {
      "text/html": [
       "<div>\n",
       "<style scoped>\n",
       "    .dataframe tbody tr th:only-of-type {\n",
       "        vertical-align: middle;\n",
       "    }\n",
       "\n",
       "    .dataframe tbody tr th {\n",
       "        vertical-align: top;\n",
       "    }\n",
       "\n",
       "    .dataframe thead th {\n",
       "        text-align: right;\n",
       "    }\n",
       "</style>\n",
       "<table border=\"1\" class=\"dataframe\">\n",
       "  <thead>\n",
       "    <tr style=\"text-align: right;\">\n",
       "      <th></th>\n",
       "      <th>CD_MUNICIPIO</th>\n",
       "      <th>NR_ZONA</th>\n",
       "      <th>DS_GRAU_ESCOLARIDADE</th>\n",
       "      <th>QT_ELEITORES_PERFIL</th>\n",
       "      <th>NM_PARTIDO</th>\n",
       "      <th>NM_MUNICIPIO</th>\n",
       "      <th>QT_TOTAL_VOTOS</th>\n",
       "    </tr>\n",
       "  </thead>\n",
       "  <tbody>\n",
       "  </tbody>\n",
       "</table>\n",
       "</div>"
      ],
      "text/plain": [
       "Empty DataFrame\n",
       "Columns: [CD_MUNICIPIO, NR_ZONA, DS_GRAU_ESCOLARIDADE, QT_ELEITORES_PERFIL, NM_PARTIDO, NM_MUNICIPIO, QT_TOTAL_VOTOS]\n",
       "Index: []"
      ]
     },
     "execution_count": 52,
     "metadata": {},
     "output_type": "execute_result"
    }
   ],
   "source": [
    "df_duplicated = df[df.duplicated(keep=False)]\n",
    "df_duplicated.head(10)\n"
   ]
  },
  {
   "cell_type": "code",
   "execution_count": null,
   "metadata": {},
   "outputs": [],
   "source": [
    "df.drop_duplicates(inplace=True)"
   ]
  },
  {
   "cell_type": "code",
   "execution_count": 54,
   "metadata": {},
   "outputs": [
    {
     "name": "stdout",
     "output_type": "stream",
     "text": [
      "0\n"
     ]
    }
   ],
   "source": [
    "votos_negativos = (df['QT_TOTAL_VOTOS'] < 0).sum()\n",
    "print(votos_negativos)"
   ]
  },
  {
   "cell_type": "code",
   "execution_count": 63,
   "metadata": {},
   "outputs": [],
   "source": [
    "df.to_csv('dados_eleitores.csv', index=False, encoding='utf-8')\n"
   ]
  },
  {
   "cell_type": "markdown",
   "metadata": {},
   "source": [
    "Inicio Analise"
   ]
  },
  {
   "cell_type": "code",
   "execution_count": 56,
   "metadata": {},
   "outputs": [
    {
     "name": "stdout",
     "output_type": "stream",
     "text": [
      "Total de partidos: 31\n"
     ]
    }
   ],
   "source": [
    "contagem_partidos = df['NM_PARTIDO'].nunique()\n",
    "print(f\"Total de partidos: {contagem_partidos}\")"
   ]
  },
  {
   "cell_type": "code",
   "execution_count": 58,
   "metadata": {},
   "outputs": [
    {
     "name": "stdout",
     "output_type": "stream",
     "text": [
      "                                        NM_PARTIDO  QT_TOTAL_VOTOS\n",
      "5                                    PROGRESSISTAS        18555589\n",
      "4                 Movimento Democrático Brasileiro        18330470\n",
      "8                  Partido Democrático Trabalhista        11696250\n",
      "24                       Partido dos Trabalhadores         9393931\n",
      "23         Partido da Social Democracia Brasileira         8931861\n",
      "19                  Partido Trabalhista Brasileiro         6672320\n",
      "17                   Partido Socialista Brasileiro         4913104\n",
      "14                      Partido Social Democrático         3642748\n",
      "27                                    REPUBLICANOS         3626081\n",
      "3                                       Democratas         3052208\n",
      "7                      Partido Comunista do Brasil         2658971\n",
      "9                                  Partido Liberal         2369951\n",
      "15                          Partido Social Liberal         1673785\n",
      "16                  Partido Socialismo e Liberdade         1397289\n",
      "1                                        Cidadania         1212534\n",
      "11        Partido Renovador Trabalhista Brasileiro         1102236\n",
      "10                                    Partido Novo          852109\n",
      "29                                   Solidariedade          586761\n",
      "25                                        Patriota          573368\n",
      "26                                         Podemos          484150\n",
      "13                          Partido Social Cristão          358742\n",
      "21                                   Partido Verde          220594\n",
      "28                           Rede Sustentabilidade          205810\n",
      "0                                           AVANTE          139286\n",
      "12             Partido Republicano da Ordem Social           61043\n",
      "6                     Partido Comunista Brasileiro           19740\n",
      "18  Partido Socialista dos Trabalhadores Unificado           19485\n",
      "30                                 Unidade Popular           12141\n",
      "2                                Democracia Cristã            5382\n",
      "22                       Partido da Causa Operária            1839\n",
      "20                     Partido Trabalhista Cristão            1000\n"
     ]
    }
   ],
   "source": [
    "votos_por_partido = df.groupby('NM_PARTIDO')['QT_TOTAL_VOTOS'].sum().reset_index().sort_values(by='QT_TOTAL_VOTOS', ascending=False)\n",
    "print(votos_por_partido)"
   ]
  },
  {
   "cell_type": "code",
   "execution_count": 61,
   "metadata": {},
   "outputs": [
    {
     "name": "stdout",
     "output_type": "stream",
     "text": [
      "Contagem de eleitores por grau de escolaridade:\n",
      "            DS_GRAU_ESCOLARIDADE  QT_ELEITORES_PERFIL\n",
      "2  ENSINO FUNDAMENTAL INCOMPLETO             45269260\n",
      "3          ENSINO MÉDIO COMPLETO             37782836\n",
      "4        ENSINO MÉDIO INCOMPLETO             28002477\n",
      "7              SUPERIOR COMPLETO             19791328\n",
      "1    ENSINO FUNDAMENTAL COMPLETO             16068109\n",
      "8            SUPERIOR INCOMPLETO             13519396\n",
      "5                   LÊ E ESCREVE              4755123\n",
      "0                     ANALFABETO              2814638\n",
      "6                  NÃO INFORMADO                35765\n"
     ]
    }
   ],
   "source": [
    "contagem_educacao = df.groupby('DS_GRAU_ESCOLARIDADE')['QT_ELEITORES_PERFIL'].sum().reset_index()\n",
    "\n",
    "print(\"Contagem de eleitores por grau de escolaridade:\")\n",
    "print(contagem_educacao.sort_values(by='QT_ELEITORES_PERFIL', ascending=False))\n"
   ]
  },
  {
   "cell_type": "code",
   "execution_count": 62,
   "metadata": {},
   "outputs": [
    {
     "name": "stdout",
     "output_type": "stream",
     "text": [
      "Total de cidades: 497\n"
     ]
    }
   ],
   "source": [
    "contagem_cidades = df['NM_MUNICIPIO'].nunique()\n",
    "print(f\"Total de cidades: {contagem_cidades}\")"
   ]
  },
  {
   "cell_type": "code",
   "execution_count": null,
   "metadata": {},
   "outputs": [],
   "source": []
  }
 ],
 "metadata": {
  "kernelspec": {
   "display_name": "Python 3",
   "language": "python",
   "name": "python3"
  },
  "language_info": {
   "codemirror_mode": {
    "name": "ipython",
    "version": 3
   },
   "file_extension": ".py",
   "mimetype": "text/x-python",
   "name": "python",
   "nbconvert_exporter": "python",
   "pygments_lexer": "ipython3",
   "version": "3.11.9"
  }
 },
 "nbformat": 4,
 "nbformat_minor": 2
}
